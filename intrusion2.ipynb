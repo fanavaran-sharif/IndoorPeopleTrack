{
 "cells": [
  {
   "cell_type": "code",
   "execution_count": 2,
   "metadata": {},
   "outputs": [
    {
     "name": "stdout",
     "output_type": "stream",
     "text": [
      "Defaulting to user installation because normal site-packages is not writeable\n",
      "Collecting tqdm\n",
      "  Using cached tqdm-4.67.1-py3-none-any.whl.metadata (57 kB)\n",
      "Requirement already satisfied: colorama in c:\\users\\user\\appdata\\local\\packages\\pythonsoftwarefoundation.python.3.12_qbz5n2kfra8p0\\localcache\\local-packages\\python312\\site-packages (from tqdm) (0.4.6)\n",
      "Using cached tqdm-4.67.1-py3-none-any.whl (78 kB)\n",
      "Installing collected packages: tqdm\n",
      "Successfully installed tqdm-4.67.1\n"
     ]
    },
    {
     "name": "stderr",
     "output_type": "stream",
     "text": [
      "\n",
      "[notice] A new release of pip is available: 24.2 -> 25.0.1\n",
      "[notice] To update, run: C:\\Users\\user\\AppData\\Local\\Microsoft\\WindowsApps\\PythonSoftwareFoundation.Python.3.12_qbz5n2kfra8p0\\python.exe -m pip install --upgrade pip\n"
     ]
    }
   ],
   "source": [
    "!pip install tqdm"
   ]
  },
  {
   "cell_type": "code",
   "execution_count": 2,
   "metadata": {},
   "outputs": [
    {
     "name": "stdout",
     "output_type": "stream",
     "text": [
      "Defaulting to user installation because normal site-packages is not writeable"
     ]
    },
    {
     "name": "stderr",
     "output_type": "stream",
     "text": [
      "\n",
      "[notice] A new release of pip is available: 24.2 -> 25.0.1\n",
      "[notice] To update, run: C:\\Users\\user\\AppData\\Local\\Microsoft\\WindowsApps\\PythonSoftwareFoundation.Python.3.12_qbz5n2kfra8p0\\python.exe -m pip install --upgrade pip\n"
     ]
    },
    {
     "name": "stdout",
     "output_type": "stream",
     "text": [
      "\n",
      "Collecting lapx\n",
      "  Downloading lapx-0.5.11.post1-cp312-cp312-win_amd64.whl.metadata (6.5 kB)\n",
      "Requirement already satisfied: numpy>=1.21.6 in c:\\users\\user\\appdata\\local\\packages\\pythonsoftwarefoundation.python.3.12_qbz5n2kfra8p0\\localcache\\local-packages\\python312\\site-packages (from lapx) (2.1.1)\n",
      "Downloading lapx-0.5.11.post1-cp312-cp312-win_amd64.whl (1.5 MB)\n",
      "   ---------------------------------------- 0.0/1.5 MB ? eta -:--:--\n",
      "   ---------------------------------------- 0.0/1.5 MB ? eta -:--:--\n",
      "   ------- -------------------------------- 0.3/1.5 MB ? eta -:--:--\n",
      "   -------------- ------------------------- 0.5/1.5 MB 932.9 kB/s eta 0:00:02\n",
      "   --------------------- ------------------ 0.8/1.5 MB 882.6 kB/s eta 0:00:01\n",
      "   --------------------- ------------------ 0.8/1.5 MB 882.6 kB/s eta 0:00:01\n",
      "   ---------------------------- ----------- 1.0/1.5 MB 898.8 kB/s eta 0:00:01\n",
      "   ----------------------------------- ---- 1.3/1.5 MB 932.1 kB/s eta 0:00:01\n",
      "   ---------------------------------------- 1.5/1.5 MB 903.8 kB/s eta 0:00:00\n",
      "Installing collected packages: lapx\n",
      "Successfully installed lapx-0.5.11.post1\n"
     ]
    }
   ],
   "source": [
    "!pip install lapx"
   ]
  },
  {
   "cell_type": "code",
   "execution_count": 1,
   "metadata": {},
   "outputs": [
    {
     "name": "stdout",
     "output_type": "stream",
     "text": [
      "Defaulting to user installation because normal site-packages is not writeable\n",
      "Collecting ultralytics\n",
      "  Using cached ultralytics-8.3.111-py3-none-any.whl.metadata (37 kB)\n",
      "Requirement already satisfied: numpy<=2.1.1,>=1.23.0 in c:\\users\\user\\appdata\\local\\packages\\pythonsoftwarefoundation.python.3.12_qbz5n2kfra8p0\\localcache\\local-packages\\python312\\site-packages (from ultralytics) (2.1.1)\n",
      "Requirement already satisfied: matplotlib>=3.3.0 in c:\\users\\user\\appdata\\local\\packages\\pythonsoftwarefoundation.python.3.12_qbz5n2kfra8p0\\localcache\\local-packages\\python312\\site-packages (from ultralytics) (3.9.3)\n",
      "Collecting opencv-python>=4.6.0 (from ultralytics)\n",
      "  Using cached opencv_python-4.11.0.86-cp37-abi3-win_amd64.whl.metadata (20 kB)\n",
      "Requirement already satisfied: pillow>=7.1.2 in c:\\users\\user\\appdata\\local\\packages\\pythonsoftwarefoundation.python.3.12_qbz5n2kfra8p0\\localcache\\local-packages\\python312\\site-packages (from ultralytics) (11.0.0)\n",
      "Requirement already satisfied: pyyaml>=5.3.1 in c:\\users\\user\\appdata\\local\\packages\\pythonsoftwarefoundation.python.3.12_qbz5n2kfra8p0\\localcache\\local-packages\\python312\\site-packages (from ultralytics) (6.0.2)\n",
      "Requirement already satisfied: requests>=2.23.0 in c:\\users\\user\\appdata\\local\\packages\\pythonsoftwarefoundation.python.3.12_qbz5n2kfra8p0\\localcache\\local-packages\\python312\\site-packages (from ultralytics) (2.32.3)\n",
      "Requirement already satisfied: scipy>=1.4.1 in c:\\users\\user\\appdata\\local\\packages\\pythonsoftwarefoundation.python.3.12_qbz5n2kfra8p0\\localcache\\local-packages\\python312\\site-packages (from ultralytics) (1.15.2)\n",
      "Collecting torch>=1.8.0 (from ultralytics)\n",
      "  Using cached torch-2.6.0-cp312-cp312-win_amd64.whl.metadata (28 kB)\n",
      "Collecting torchvision>=0.9.0 (from ultralytics)\n",
      "  Using cached torchvision-0.21.0-cp312-cp312-win_amd64.whl.metadata (6.3 kB)\n",
      "Requirement already satisfied: tqdm>=4.64.0 in c:\\users\\user\\appdata\\local\\packages\\pythonsoftwarefoundation.python.3.12_qbz5n2kfra8p0\\localcache\\local-packages\\python312\\site-packages (from ultralytics) (4.67.1)\n",
      "Requirement already satisfied: psutil in c:\\users\\user\\appdata\\local\\packages\\pythonsoftwarefoundation.python.3.12_qbz5n2kfra8p0\\localcache\\local-packages\\python312\\site-packages (from ultralytics) (6.1.0)\n",
      "Requirement already satisfied: py-cpuinfo in c:\\users\\user\\appdata\\local\\packages\\pythonsoftwarefoundation.python.3.12_qbz5n2kfra8p0\\localcache\\local-packages\\python312\\site-packages (from ultralytics) (9.0.0)\n",
      "Requirement already satisfied: pandas>=1.1.4 in c:\\users\\user\\appdata\\local\\packages\\pythonsoftwarefoundation.python.3.12_qbz5n2kfra8p0\\localcache\\local-packages\\python312\\site-packages (from ultralytics) (2.2.3)\n",
      "Requirement already satisfied: seaborn>=0.11.0 in c:\\users\\user\\appdata\\local\\packages\\pythonsoftwarefoundation.python.3.12_qbz5n2kfra8p0\\localcache\\local-packages\\python312\\site-packages (from ultralytics) (0.13.2)\n",
      "Collecting ultralytics-thop>=2.0.0 (from ultralytics)\n",
      "  Using cached ultralytics_thop-2.0.14-py3-none-any.whl.metadata (9.4 kB)\n",
      "Requirement already satisfied: contourpy>=1.0.1 in c:\\users\\user\\appdata\\local\\packages\\pythonsoftwarefoundation.python.3.12_qbz5n2kfra8p0\\localcache\\local-packages\\python312\\site-packages (from matplotlib>=3.3.0->ultralytics) (1.3.1)\n",
      "Requirement already satisfied: cycler>=0.10 in c:\\users\\user\\appdata\\local\\packages\\pythonsoftwarefoundation.python.3.12_qbz5n2kfra8p0\\localcache\\local-packages\\python312\\site-packages (from matplotlib>=3.3.0->ultralytics) (0.12.1)\n",
      "Requirement already satisfied: fonttools>=4.22.0 in c:\\users\\user\\appdata\\local\\packages\\pythonsoftwarefoundation.python.3.12_qbz5n2kfra8p0\\localcache\\local-packages\\python312\\site-packages (from matplotlib>=3.3.0->ultralytics) (4.55.1)\n",
      "Requirement already satisfied: kiwisolver>=1.3.1 in c:\\users\\user\\appdata\\local\\packages\\pythonsoftwarefoundation.python.3.12_qbz5n2kfra8p0\\localcache\\local-packages\\python312\\site-packages (from matplotlib>=3.3.0->ultralytics) (1.4.7)\n",
      "Requirement already satisfied: packaging>=20.0 in c:\\users\\user\\appdata\\local\\packages\\pythonsoftwarefoundation.python.3.12_qbz5n2kfra8p0\\localcache\\local-packages\\python312\\site-packages (from matplotlib>=3.3.0->ultralytics) (24.2)\n",
      "Requirement already satisfied: pyparsing>=2.3.1 in c:\\users\\user\\appdata\\local\\packages\\pythonsoftwarefoundation.python.3.12_qbz5n2kfra8p0\\localcache\\local-packages\\python312\\site-packages (from matplotlib>=3.3.0->ultralytics) (3.2.0)\n",
      "Requirement already satisfied: python-dateutil>=2.7 in c:\\users\\user\\appdata\\local\\packages\\pythonsoftwarefoundation.python.3.12_qbz5n2kfra8p0\\localcache\\local-packages\\python312\\site-packages (from matplotlib>=3.3.0->ultralytics) (2.9.0.post0)\n",
      "Requirement already satisfied: pytz>=2020.1 in c:\\users\\user\\appdata\\local\\packages\\pythonsoftwarefoundation.python.3.12_qbz5n2kfra8p0\\localcache\\local-packages\\python312\\site-packages (from pandas>=1.1.4->ultralytics) (2025.1)\n",
      "Requirement already satisfied: tzdata>=2022.7 in c:\\users\\user\\appdata\\local\\packages\\pythonsoftwarefoundation.python.3.12_qbz5n2kfra8p0\\localcache\\local-packages\\python312\\site-packages (from pandas>=1.1.4->ultralytics) (2025.1)\n",
      "Requirement already satisfied: charset-normalizer<4,>=2 in c:\\users\\user\\appdata\\local\\packages\\pythonsoftwarefoundation.python.3.12_qbz5n2kfra8p0\\localcache\\local-packages\\python312\\site-packages (from requests>=2.23.0->ultralytics) (3.4.1)\n",
      "Requirement already satisfied: idna<4,>=2.5 in c:\\users\\user\\appdata\\local\\packages\\pythonsoftwarefoundation.python.3.12_qbz5n2kfra8p0\\localcache\\local-packages\\python312\\site-packages (from requests>=2.23.0->ultralytics) (3.10)\n",
      "Requirement already satisfied: urllib3<3,>=1.21.1 in c:\\users\\user\\appdata\\local\\packages\\pythonsoftwarefoundation.python.3.12_qbz5n2kfra8p0\\localcache\\local-packages\\python312\\site-packages (from requests>=2.23.0->ultralytics) (2.3.0)\n",
      "Requirement already satisfied: certifi>=2017.4.17 in c:\\users\\user\\appdata\\local\\packages\\pythonsoftwarefoundation.python.3.12_qbz5n2kfra8p0\\localcache\\local-packages\\python312\\site-packages (from requests>=2.23.0->ultralytics) (2025.1.31)\n",
      "Requirement already satisfied: filelock in c:\\users\\user\\appdata\\local\\packages\\pythonsoftwarefoundation.python.3.12_qbz5n2kfra8p0\\localcache\\local-packages\\python312\\site-packages (from torch>=1.8.0->ultralytics) (3.18.0)\n",
      "Requirement already satisfied: typing-extensions>=4.10.0 in c:\\users\\user\\appdata\\local\\packages\\pythonsoftwarefoundation.python.3.12_qbz5n2kfra8p0\\localcache\\local-packages\\python312\\site-packages (from torch>=1.8.0->ultralytics) (4.12.2)\n",
      "Requirement already satisfied: networkx in c:\\users\\user\\appdata\\local\\packages\\pythonsoftwarefoundation.python.3.12_qbz5n2kfra8p0\\localcache\\local-packages\\python312\\site-packages (from torch>=1.8.0->ultralytics) (3.4.2)\n",
      "Collecting jinja2 (from torch>=1.8.0->ultralytics)\n",
      "  Using cached jinja2-3.1.6-py3-none-any.whl.metadata (2.9 kB)\n",
      "Requirement already satisfied: fsspec in c:\\users\\user\\appdata\\local\\packages\\pythonsoftwarefoundation.python.3.12_qbz5n2kfra8p0\\localcache\\local-packages\\python312\\site-packages (from torch>=1.8.0->ultralytics) (2025.3.2)\n",
      "Requirement already satisfied: setuptools in c:\\users\\user\\appdata\\local\\packages\\pythonsoftwarefoundation.python.3.12_qbz5n2kfra8p0\\localcache\\local-packages\\python312\\site-packages (from torch>=1.8.0->ultralytics) (78.1.1)\n",
      "Requirement already satisfied: sympy==1.13.1 in c:\\users\\user\\appdata\\local\\packages\\pythonsoftwarefoundation.python.3.12_qbz5n2kfra8p0\\localcache\\local-packages\\python312\\site-packages (from torch>=1.8.0->ultralytics) (1.13.1)\n",
      "Requirement already satisfied: mpmath<1.4,>=1.1.0 in c:\\users\\user\\appdata\\local\\packages\\pythonsoftwarefoundation.python.3.12_qbz5n2kfra8p0\\localcache\\local-packages\\python312\\site-packages (from sympy==1.13.1->torch>=1.8.0->ultralytics) (1.3.0)\n",
      "Requirement already satisfied: colorama in c:\\users\\user\\appdata\\local\\packages\\pythonsoftwarefoundation.python.3.12_qbz5n2kfra8p0\\localcache\\local-packages\\python312\\site-packages (from tqdm>=4.64.0->ultralytics) (0.4.6)\n",
      "Requirement already satisfied: six>=1.5 in c:\\users\\user\\appdata\\local\\packages\\pythonsoftwarefoundation.python.3.12_qbz5n2kfra8p0\\localcache\\local-packages\\python312\\site-packages (from python-dateutil>=2.7->matplotlib>=3.3.0->ultralytics) (1.16.0)\n",
      "Requirement already satisfied: MarkupSafe>=2.0 in c:\\users\\user\\appdata\\local\\packages\\pythonsoftwarefoundation.python.3.12_qbz5n2kfra8p0\\localcache\\local-packages\\python312\\site-packages (from jinja2->torch>=1.8.0->ultralytics) (3.0.2)\n",
      "Using cached ultralytics-8.3.111-py3-none-any.whl (978 kB)\n",
      "Using cached opencv_python-4.11.0.86-cp37-abi3-win_amd64.whl (39.5 MB)\n",
      "Using cached torch-2.6.0-cp312-cp312-win_amd64.whl (204.1 MB)\n",
      "Using cached torchvision-0.21.0-cp312-cp312-win_amd64.whl (1.6 MB)\n",
      "Using cached ultralytics_thop-2.0.14-py3-none-any.whl (26 kB)\n",
      "Using cached jinja2-3.1.6-py3-none-any.whl (134 kB)\n",
      "Installing collected packages: opencv-python, jinja2, torch, ultralytics-thop, torchvision, ultralytics\n",
      "Successfully installed jinja2-3.1.6 opencv-python-4.11.0.86 torch-2.6.0 torchvision-0.21.0 ultralytics-8.3.111 ultralytics-thop-2.0.14\n"
     ]
    },
    {
     "name": "stderr",
     "output_type": "stream",
     "text": [
      "\n",
      "[notice] A new release of pip is available: 24.2 -> 25.0.1\n",
      "[notice] To update, run: C:\\Users\\user\\AppData\\Local\\Microsoft\\WindowsApps\\PythonSoftwareFoundation.Python.3.12_qbz5n2kfra8p0\\python.exe -m pip install --upgrade pip\n"
     ]
    }
   ],
   "source": [
    "!pip install ultralytics"
   ]
  },
  {
   "cell_type": "code",
   "execution_count": 6,
   "metadata": {},
   "outputs": [
    {
     "name": "stdout",
     "output_type": "stream",
     "text": [
      "Draw up to 3 boundary lines. Press 'q' to confirm.\n"
     ]
    },
    {
     "name": "stderr",
     "output_type": "stream",
     "text": [
      "  7%|▋         | 77/1050 [00:35<07:07,  2.27it/s]"
     ]
    },
    {
     "name": "stdout",
     "output_type": "stream",
     "text": [
      "77\n",
      "ID 23 crossed line 1!\n"
     ]
    },
    {
     "name": "stderr",
     "output_type": "stream",
     "text": [
      "  9%|▉         | 99/1050 [00:45<07:11,  2.20it/s]"
     ]
    },
    {
     "name": "stdout",
     "output_type": "stream",
     "text": [
      "99\n",
      "ID 20 crossed line 2!\n"
     ]
    },
    {
     "name": "stderr",
     "output_type": "stream",
     "text": [
      " 10%|▉         | 104/1050 [00:47<07:00,  2.25it/s]"
     ]
    },
    {
     "name": "stdout",
     "output_type": "stream",
     "text": [
      "104\n",
      "ID 17 crossed line 1!\n"
     ]
    },
    {
     "name": "stderr",
     "output_type": "stream",
     "text": [
      " 16%|█▌        | 163/1050 [01:14<06:54,  2.14it/s]"
     ]
    },
    {
     "name": "stdout",
     "output_type": "stream",
     "text": [
      "163\n",
      "ID 29 crossed line 1!\n"
     ]
    },
    {
     "name": "stderr",
     "output_type": "stream",
     "text": [
      " 17%|█▋        | 181/1050 [01:23<06:36,  2.19it/s]"
     ]
    },
    {
     "name": "stdout",
     "output_type": "stream",
     "text": [
      "181\n",
      "ID 2 crossed line 1!\n"
     ]
    },
    {
     "name": "stderr",
     "output_type": "stream",
     "text": [
      " 17%|█▋        | 182/1050 [01:23<06:50,  2.11it/s]"
     ]
    },
    {
     "name": "stdout",
     "output_type": "stream",
     "text": [
      "182\n",
      "ID 2 crossed line 1!\n"
     ]
    },
    {
     "name": "stderr",
     "output_type": "stream",
     "text": [
      " 17%|█▋        | 183/1050 [01:24<07:18,  1.98it/s]"
     ]
    },
    {
     "name": "stdout",
     "output_type": "stream",
     "text": [
      "183\n",
      "ID 2 crossed line 1!\n"
     ]
    },
    {
     "name": "stderr",
     "output_type": "stream",
     "text": [
      " 26%|██▌       | 274/1050 [02:06<05:47,  2.23it/s]"
     ]
    },
    {
     "name": "stdout",
     "output_type": "stream",
     "text": [
      "274\n",
      "ID 38 crossed line 2!\n"
     ]
    },
    {
     "name": "stderr",
     "output_type": "stream",
     "text": [
      " 28%|██▊       | 292/1050 [02:15<06:00,  2.10it/s]"
     ]
    },
    {
     "name": "stdout",
     "output_type": "stream",
     "text": [
      "292\n",
      "ID 6 crossed line 1!\n"
     ]
    },
    {
     "name": "stderr",
     "output_type": "stream",
     "text": [
      " 41%|████      | 427/1050 [03:18<04:36,  2.26it/s]"
     ]
    },
    {
     "name": "stdout",
     "output_type": "stream",
     "text": [
      "427\n",
      "ID 10 crossed line 2!\n"
     ]
    },
    {
     "name": "stderr",
     "output_type": "stream",
     "text": [
      " 44%|████▎     | 457/1050 [03:31<04:27,  2.22it/s]"
     ]
    },
    {
     "name": "stdout",
     "output_type": "stream",
     "text": [
      "457\n",
      "ID 38 crossed line 1!\n"
     ]
    },
    {
     "name": "stderr",
     "output_type": "stream",
     "text": [
      " 54%|█████▎    | 562/1050 [04:27<05:18,  1.53it/s]"
     ]
    },
    {
     "name": "stdout",
     "output_type": "stream",
     "text": [
      "562\n",
      "ID 10 crossed line 2!\n"
     ]
    },
    {
     "name": "stderr",
     "output_type": "stream",
     "text": [
      " 98%|█████████▊| 1025/1050 [08:20<00:11,  2.16it/s]"
     ]
    },
    {
     "name": "stdout",
     "output_type": "stream",
     "text": [
      "1025\n",
      "ID 80 crossed line 1!\n"
     ]
    },
    {
     "name": "stderr",
     "output_type": "stream",
     "text": [
      "100%|██████████| 1050/1050 [08:32<00:00,  2.05it/s]"
     ]
    },
    {
     "name": "stdout",
     "output_type": "stream",
     "text": [
      "Tracked video saved at: C:\\\\Users\\\\user\\\\Desktop\\\\intrution\\tracked_output_MOT.mp4\n"
     ]
    },
    {
     "name": "stderr",
     "output_type": "stream",
     "text": [
      "\n"
     ]
    }
   ],
   "source": [
    "import numpy as np\n",
    "from numpy import linalg as LA\n",
    "import cv2\n",
    "import os\n",
    "import glob\n",
    "from random import randrange\n",
    "from tqdm import tqdm\n",
    "from SFSORT import SFSORT\n",
    "from ultralytics import YOLO\n",
    "\n",
    "class boundaryLine:\n",
    "    def __init__(self, line_id, line=[(0, 0), (0, 0)]):\n",
    "        self.id = line_id\n",
    "        self.p0 = line[0]\n",
    "        self.p1 = line[1]\n",
    "        self.color = (0, 255, 255)\n",
    "        self.lineThinkness = 4\n",
    "        self.textColor = (0, 255, 255)\n",
    "        self.textSize = 4\n",
    "        self.textThinkness = 2\n",
    "        self.count1 = 0\n",
    "        self.count2 = 0\n",
    "\n",
    "def line_vectorize(point1, point2):\n",
    "    a = point2[0] - point1[0]\n",
    "    b = point2[1] - point1[1]\n",
    "    return [a, b]\n",
    "\n",
    "def calcVectorAngle(point1, point2, point3, point4):\n",
    "    u = np.array(line_vectorize(point1, point2))\n",
    "    v = np.array(line_vectorize(point3, point4))\n",
    "    i = np.inner(u, v)\n",
    "    n = LA.norm(u) * LA.norm(v)\n",
    "    c = i / n\n",
    "    a = np.rad2deg(np.arccos(np.clip(c, -1.0, 1.0)))\n",
    "    return a if u[0]*v[1]-u[1]*v[0] < 0 else 360 - a\n",
    "\n",
    "def checkIntersect(p1, p2, p3, p4):\n",
    "    tc1 = (p1[0] - p2[0]) * (p3[1] - p1[1]) + (p1[1] - p2[1]) * (p1[0] - p3[0])\n",
    "    tc2 = (p1[0] - p2[0]) * (p4[1] - p1[1]) + (p1[1] - p2[1]) * (p1[0] - p4[0])\n",
    "    td1 = (p3[0] - p4[0]) * (p1[1] - p3[1]) + (p3[1] - p4[1]) * (p3[0] - p1[0])\n",
    "    td2 = (p3[0] - p4[0]) * (p2[1] - p3[1]) + (p3[1] - p4[1]) * (p3[0] - p2[0])\n",
    "    return tc1 * tc2 < 0 and td1 * td2 < 0\n",
    "\n",
    "def checkLineCross(boundary_line, trajectory, track_id):\n",
    "    traj_p0 = (trajectory[0], trajectory[1])\n",
    "    traj_p1 = (trajectory[2], trajectory[3])\n",
    "    bLine_p0 = (boundary_line.p0[0], boundary_line.p0[1])\n",
    "    bLine_p1 = (boundary_line.p1[0], boundary_line.p1[1])\n",
    "    intersect = checkIntersect(traj_p0, traj_p1, bLine_p0, bLine_p1)\n",
    "    if intersect:\n",
    "        angle = calcVectorAngle(traj_p0, traj_p1, bLine_p0, bLine_p1)\n",
    "        if 15 < angle < 165:\n",
    "            boundary_line.count1 += 1\n",
    "        elif 195 < angle < 345:\n",
    "            boundary_line.count2 += 1\n",
    "        return f'ID {track_id} crossed line {boundary_line.id}!'\n",
    "    return None\n",
    "\n",
    "def drawBoundaryLine(img, line):\n",
    "    x1, y1 = line.p0\n",
    "    x2, y2 = line.p1\n",
    "    cv2.line(img, (x1, y1), (x2, y2), line.color, line.lineThinkness)\n",
    "    cv2.putText(img, str(line.count1), (x1, y1), cv2.FONT_HERSHEY_PLAIN, line.textSize, line.textColor, line.textThinkness)\n",
    "    cv2.putText(img, str(line.count2), (x2, y2), cv2.FONT_HERSHEY_PLAIN, line.textSize, line.textColor, line.textThinkness)\n",
    "    cv2.drawMarker(img, (x1, y1), line.color, cv2.MARKER_TRIANGLE_UP, 16, 4)\n",
    "    cv2.drawMarker(img, (x2, y2), line.color, cv2.MARKER_TILTED_CROSS, 16, 4)\n",
    "\n",
    "def drawBoundaryLines(img, boundaryLines):\n",
    "    for line in boundaryLines:\n",
    "        drawBoundaryLine(img, line)\n",
    "\n",
    "folder_path = r'C:\\\\Users\\\\user\\\\Desktop\\\\intrution'\n",
    "video_files = glob.glob(os.path.join(folder_path, \"*.avi\"))\n",
    "if len(video_files) != 1:\n",
    "    print(video_files)\n",
    "    raise ValueError(\"There should be exactly one .mp4 file in the folder.\")\n",
    "video_path = video_files[0]\n",
    "\n",
    "cap = cv2.VideoCapture(video_path)\n",
    "ret, frame = cap.read()\n",
    "if not ret:\n",
    "    raise RuntimeError(\"Failed to read first frame.\")\n",
    "\n",
    "# Interactive drawing\n",
    "boundary_points = []\n",
    "drawing = False\n",
    "current_line = []\n",
    "\n",
    "def draw_line(event, x, y, flags, param):\n",
    "    global drawing, current_line, boundary_points\n",
    "    if event == cv2.EVENT_LBUTTONDOWN:\n",
    "        drawing = True\n",
    "        current_line = [(x, y)]\n",
    "    elif event == cv2.EVENT_MOUSEMOVE and drawing:\n",
    "        temp_img = frame.copy()\n",
    "        cv2.line(temp_img, current_line[0], (x, y), (0, 255, 255), 2)\n",
    "        cv2.imshow(\"Draw Lines (up to 3)\", temp_img)\n",
    "    elif event == cv2.EVENT_LBUTTONUP:\n",
    "        drawing = False\n",
    "        current_line.append((x, y))\n",
    "        boundary_points.append(tuple(current_line))\n",
    "        cv2.line(frame, current_line[0], current_line[1], (0, 255, 255), 2)\n",
    "        cv2.imshow(\"Draw Lines (up to 3)\", frame)\n",
    "\n",
    "cv2.namedWindow(\"Draw Lines (up to 3)\")\n",
    "cv2.setMouseCallback(\"Draw Lines (up to 3)\", draw_line)\n",
    "\n",
    "print(\"Draw up to 3 boundary lines. Press 'q' to confirm.\")\n",
    "while True:\n",
    "    cv2.imshow(\"Draw Lines (up to 3)\", frame)\n",
    "    if cv2.waitKey(1) & 0xFF == ord('q') or len(boundary_points) >= 3:\n",
    "        break\n",
    "cv2.destroyWindow(\"Draw Lines (up to 3)\")\n",
    "\n",
    "bLines = [boundaryLine(i+1, list(pts)) for i, pts in enumerate(boundary_points)]\n",
    "cap.set(cv2.CAP_PROP_POS_FRAMES, 0)  # rewind\n",
    "\n",
    "# The rest of your tracking and processing pipeline follows from here...\n",
    "# (Insert your tracking loop here, reusing `bLines`, `cap`, etc.)\n",
    "\n",
    "model_path = os.path.join(folder_path, 'best.pt')\n",
    "model = YOLO(model_path, 'detect')\n",
    "\n",
    "\n",
    "output_video_path = os.path.join(folder_path, \"tracked_output_MOT.mp4\")\n",
    "\n",
    "\n",
    "\n",
    "# Get video properties\n",
    "frame_width = int(cap.get(cv2.CAP_PROP_FRAME_WIDTH))\n",
    "frame_height = int(cap.get(cv2.CAP_PROP_FRAME_HEIGHT))\n",
    "frame_rate = int(cap.get(cv2.CAP_PROP_FPS))\n",
    "frame_count = int(cap.get(cv2.CAP_PROP_FRAME_COUNT))\n",
    "\n",
    "# Tracker parameters (adjust as needed)\n",
    "tracker_arguments = {\n",
    "    \"dynamic_tuning\": True,\n",
    "    \"high_th\": 0.5,\n",
    "    \"low_th\": 0.2,\n",
    "    \"match_th_first\": 0.4,\n",
    "    \"match_th_first_m\": 0.05,\n",
    "    \"match_th_second\": 0.4,\n",
    "    \"marginal_timeout\": int(1.1*frame_rate),  # Example value; adjust based on frame rate\n",
    "    \"central_timeout\": int(1.4*frame_rate),  # Example value; adjust based on frame rate\n",
    "    \"horizontal_margin\": int(0.1*frame_width),  # Example value\n",
    "    \"vertical_margin\": int(0.1*frame_height),  # Example value\n",
    "    \"frame_width\": frame_width,  # To be set dynamically\n",
    "    \"frame_height\": frame_height  # To be set dynamically\n",
    "}\n",
    "\n",
    "tracker = SFSORT(tracker_arguments)\n",
    "\n",
    "\n",
    "# Setup video writer for output\n",
    "fourcc = cv2.VideoWriter_fourcc(*'mp4v')\n",
    "out = cv2.VideoWriter(output_video_path, fourcc, frame_rate, (frame_width, frame_height))\n",
    "colors = {}\n",
    "intruders = {}\n",
    "tracks = {}\n",
    "for frame_no in tqdm(range(frame_count)):\n",
    "    ret, frame = cap.read()\n",
    "    if not ret:\n",
    "        print(f\"End of video reached or error reading frame {frame_no}.\")\n",
    "        break\n",
    "    prediction = model.predict(frame, imgsz=(800,1440),\n",
    "                               conf=0.1, iou=0.45, half=False,\n",
    "                               max_det=60, classes=0, verbose=False)\n",
    "    \n",
    "    # exclude extra info from the predictions\n",
    "    predictionResults = prediction[0].boxes.cpu().numpy()\n",
    "\n",
    "\n",
    "\n",
    "\n",
    "\n",
    "    box_list = predictionResults.xyxy\n",
    "    score_list = predictionResults.conf\n",
    "\n",
    "    if box_list.shape[0] == 0:\n",
    "      print(f'no detection found in {frame_no+1}')\n",
    "      drawBoundaryLines(frame,bLines)\n",
    "      # cv2.imwrite(os.path.join(folder_path,str(frame_no+1) +'.jpg'),frame)\n",
    "      out.write(frame)\n",
    "      continue\n",
    "\n",
    "    # Update tracker with detections\n",
    "    track_list = tracker.update(box_list, score_list)\n",
    "\n",
    "\n",
    "    # Annotate frame with tracking results\n",
    "    for track in track_list:\n",
    "        bbox, track_id = track[0], int(track[1])\n",
    "        if track_id not in tracks:\n",
    "          tracks[track_id] = bbox\n",
    "        prev_box = tracks[track_id]\n",
    "        \n",
    "        \n",
    "        x0, y0, x1, y1 = map(int, bbox)\n",
    "        cx,cy = (x0+x1)/2 , (y0+y1)/2\n",
    "\n",
    "        \n",
    "        prev_x0,prev_y0,prev_x1,prev_y1 = map(int, prev_box)\n",
    "        prev_cx,prev_cy = (prev_x0+prev_x1)/2 , (prev_y0+prev_y1)/2\n",
    "        \n",
    "        crossed = [None]*len(bLines)\n",
    "        for j,line in enumerate(bLines):\n",
    "          crossed[j] = checkLineCross(line, [prev_cx,prev_cy, cx,cy], track_id)\n",
    "\n",
    "        if track_id not in colors:\n",
    "          colors[track_id] =  (randrange(255), randrange(255), randrange(255))\n",
    "\n",
    "        color = colors[track_id]\n",
    "        track_thickness = 1\n",
    "        if any(crossed):\n",
    "          if track_id not in intruders:\n",
    "            intruders[track_id] = [[cx,cy]]\n",
    "          message = [m for m in crossed if m is not None]\n",
    "          cv2.putText(frame, str(message[0]), (20,50), cv2.FONT_HERSHEY_SIMPLEX, 1, (0,0,255), 2)\n",
    "          print(frame_no+1)\n",
    "          print(str(message[0]))\n",
    "\n",
    "        # drawBoundaryLines(frame,bLines)\n",
    "        \n",
    "        if track_id in intruders:\n",
    "          color = (0,0,255)\n",
    "          track_thickness = 2\n",
    "          intruders[track_id].append([cx,cy])\n",
    "          cv2.polylines(frame, np.array([intruders[track_id]], np.int32), False, (255,255,255), 4)\n",
    "\n",
    "        frame = cv2.rectangle(frame, (x0, y0), (x1, y1), color, track_thickness)\n",
    "        cv2.putText(frame, str(track_id), (x0, y0-5), cv2.FONT_HERSHEY_SIMPLEX, 0.5, color, track_thickness)\n",
    "        tracks[track_id] = bbox\n",
    "\n",
    "    drawBoundaryLines(frame,bLines)\n",
    "    # cv2.imwrite(os.path.join(folder_path,str(frame_no+1) +'.jpg'),frame)\n",
    "    out.write(frame)\n",
    "\n",
    "# Release resources for this video\n",
    "cap.release()\n",
    "out.release()\n",
    "print(f\"Tracked video saved at: {output_video_path}\")\n"
   ]
  },
  {
   "cell_type": "code",
   "execution_count": null,
   "metadata": {},
   "outputs": [],
   "source": []
  }
 ],
 "metadata": {
  "kernelspec": {
   "display_name": "Python 3",
   "language": "python",
   "name": "python3"
  },
  "language_info": {
   "codemirror_mode": {
    "name": "ipython",
    "version": 3
   },
   "file_extension": ".py",
   "mimetype": "text/x-python",
   "name": "python",
   "nbconvert_exporter": "python",
   "pygments_lexer": "ipython3",
   "version": "3.12.7"
  }
 },
 "nbformat": 4,
 "nbformat_minor": 2
}
